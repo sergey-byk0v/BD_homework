{
 "cells": [
  {
   "cell_type": "code",
   "execution_count": 1,
   "metadata": {},
   "outputs": [],
   "source": [
    "import pandas as pd\n",
    "import numpy as np"
   ]
  },
  {
   "cell_type": "code",
   "execution_count": 6,
   "metadata": {},
   "outputs": [
    {
     "data": {
      "text/html": [
       "<div>\n",
       "<style scoped>\n",
       "    .dataframe tbody tr th:only-of-type {\n",
       "        vertical-align: middle;\n",
       "    }\n",
       "\n",
       "    .dataframe tbody tr th {\n",
       "        vertical-align: top;\n",
       "    }\n",
       "\n",
       "    .dataframe thead th {\n",
       "        text-align: right;\n",
       "    }\n",
       "</style>\n",
       "<table border=\"1\" class=\"dataframe\">\n",
       "  <thead>\n",
       "    <tr style=\"text-align: right;\">\n",
       "      <th></th>\n",
       "      <th>actionId</th>\n",
       "      <th>currentUser</th>\n",
       "      <th>createdDateTime</th>\n",
       "      <th>message</th>\n",
       "    </tr>\n",
       "  </thead>\n",
       "  <tbody>\n",
       "    <tr>\n",
       "      <th>count</th>\n",
       "      <td>18995</td>\n",
       "      <td>18995</td>\n",
       "      <td>18995</td>\n",
       "      <td>18995</td>\n",
       "    </tr>\n",
       "    <tr>\n",
       "      <th>unique</th>\n",
       "      <td>9965</td>\n",
       "      <td>15</td>\n",
       "      <td>18786</td>\n",
       "      <td>13400</td>\n",
       "    </tr>\n",
       "    <tr>\n",
       "      <th>top</th>\n",
       "      <td>ddaea92d-877c-4937-ae11-c55788fc7d91</td>\n",
       "      <td>lxusdzwncy</td>\n",
       "      <td>2019-09-02 10:53:00</td>\n",
       "      <td>[END] [SEARCH]: [num_results=9]</td>\n",
       "    </tr>\n",
       "    <tr>\n",
       "      <th>freq</th>\n",
       "      <td>2</td>\n",
       "      <td>1352</td>\n",
       "      <td>3</td>\n",
       "      <td>18</td>\n",
       "    </tr>\n",
       "  </tbody>\n",
       "</table>\n",
       "</div>"
      ],
      "text/plain": [
       "                                    actionId currentUser      createdDateTime  \\\n",
       "count                                  18995       18995                18995   \n",
       "unique                                  9965          15                18786   \n",
       "top     ddaea92d-877c-4937-ae11-c55788fc7d91  lxusdzwncy  2019-09-02 10:53:00   \n",
       "freq                                       2        1352                    3   \n",
       "\n",
       "                                message  \n",
       "count                             18995  \n",
       "unique                            13400  \n",
       "top     [END] [SEARCH]: [num_results=9]  \n",
       "freq                                 18  "
      ]
     },
     "execution_count": 6,
     "metadata": {},
     "output_type": "execute_result"
    }
   ],
   "source": [
    "data = pd.read_csv('user_actions.csv')\n",
    "data.describe()"
   ]
  },
  {
   "cell_type": "code",
   "execution_count": 10,
   "metadata": {},
   "outputs": [
    {
     "data": {
      "text/html": [
       "<div>\n",
       "<style scoped>\n",
       "    .dataframe tbody tr th:only-of-type {\n",
       "        vertical-align: middle;\n",
       "    }\n",
       "\n",
       "    .dataframe tbody tr th {\n",
       "        vertical-align: top;\n",
       "    }\n",
       "\n",
       "    .dataframe thead th {\n",
       "        text-align: right;\n",
       "    }\n",
       "</style>\n",
       "<table border=\"1\" class=\"dataframe\">\n",
       "  <thead>\n",
       "    <tr style=\"text-align: right;\">\n",
       "      <th></th>\n",
       "      <th>actionId</th>\n",
       "      <th>currentUser</th>\n",
       "      <th>createdDateTime</th>\n",
       "      <th>message</th>\n",
       "    </tr>\n",
       "  </thead>\n",
       "  <tbody>\n",
       "    <tr>\n",
       "      <th>0</th>\n",
       "      <td>875ee856-7376-4d2b-bdb3-159696551ea9</td>\n",
       "      <td>tpoyqv</td>\n",
       "      <td>2019-10-03 14:12:23</td>\n",
       "      <td>[END] [IMPORT]: [num_success=2, num_failed=1, ...</td>\n",
       "    </tr>\n",
       "    <tr>\n",
       "      <th>1</th>\n",
       "      <td>7c592432-a361-41e9-9e1d-3b7097e74447</td>\n",
       "      <td>okiuvpr</td>\n",
       "      <td>2019-10-23 10:10:00</td>\n",
       "      <td>[START] [SEARCH]: [approved_by=renwhscyxdi]</td>\n",
       "    </tr>\n",
       "    <tr>\n",
       "      <th>2</th>\n",
       "      <td>9f2287f6-425a-4d5a-9381-bec13285e2fc</td>\n",
       "      <td>hojgrxwbinkfcp</td>\n",
       "      <td>2019-06-03 14:36:00</td>\n",
       "      <td>[START] [IMPORT]: [num_records=497]</td>\n",
       "    </tr>\n",
       "    <tr>\n",
       "      <th>3</th>\n",
       "      <td>b830e027-5f2b-41fc-bd19-9580e0f25cea</td>\n",
       "      <td>lxusdzwncy</td>\n",
       "      <td>2019-04-03 12:57:10</td>\n",
       "      <td>[END] [APPROVE]: [num_success=2, num_failed=49...</td>\n",
       "    </tr>\n",
       "    <tr>\n",
       "      <th>4</th>\n",
       "      <td>f4d9f09f-f83c-41a4-9abd-fd5c66bf1bfb</td>\n",
       "      <td>okiuvpr</td>\n",
       "      <td>2019-02-10 15:07:40</td>\n",
       "      <td>[END] [IMPORT]: [num_success=41, num_failed=8,...</td>\n",
       "    </tr>\n",
       "  </tbody>\n",
       "</table>\n",
       "</div>"
      ],
      "text/plain": [
       "                               actionId     currentUser     createdDateTime  \\\n",
       "0  875ee856-7376-4d2b-bdb3-159696551ea9          tpoyqv 2019-10-03 14:12:23   \n",
       "1  7c592432-a361-41e9-9e1d-3b7097e74447         okiuvpr 2019-10-23 10:10:00   \n",
       "2  9f2287f6-425a-4d5a-9381-bec13285e2fc  hojgrxwbinkfcp 2019-06-03 14:36:00   \n",
       "3  b830e027-5f2b-41fc-bd19-9580e0f25cea      lxusdzwncy 2019-04-03 12:57:10   \n",
       "4  f4d9f09f-f83c-41a4-9abd-fd5c66bf1bfb         okiuvpr 2019-02-10 15:07:40   \n",
       "\n",
       "                                             message  \n",
       "0  [END] [IMPORT]: [num_success=2, num_failed=1, ...  \n",
       "1        [START] [SEARCH]: [approved_by=renwhscyxdi]  \n",
       "2                [START] [IMPORT]: [num_records=497]  \n",
       "3  [END] [APPROVE]: [num_success=2, num_failed=49...  \n",
       "4  [END] [IMPORT]: [num_success=41, num_failed=8,...  "
      ]
     },
     "execution_count": 10,
     "metadata": {},
     "output_type": "execute_result"
    }
   ],
   "source": [
    "data.head()"
   ]
  },
  {
   "cell_type": "code",
   "execution_count": 7,
   "metadata": {},
   "outputs": [],
   "source": [
    "data['createdDateTime'] = pd.to_datetime(data['createdDateTime'])"
   ]
  },
  {
   "cell_type": "code",
   "execution_count": 8,
   "metadata": {},
   "outputs": [
    {
     "data": {
      "text/plain": [
       "actionId           0\n",
       "currentUser        0\n",
       "createdDateTime    0\n",
       "message            0\n",
       "dtype: int64"
      ]
     },
     "execution_count": 8,
     "metadata": {},
     "output_type": "execute_result"
    }
   ],
   "source": [
    "data.isna().sum()"
   ]
  },
  {
   "cell_type": "code",
   "execution_count": 14,
   "metadata": {},
   "outputs": [
    {
     "data": {
      "text/plain": [
       "0          END\n",
       "1        START\n",
       "2        START\n",
       "3          END\n",
       "4          END\n",
       "         ...  \n",
       "18990    START\n",
       "18991      END\n",
       "18992    START\n",
       "18993      END\n",
       "18994    START\n",
       "Name: status, Length: 18995, dtype: object"
      ]
     },
     "execution_count": 14,
     "metadata": {},
     "output_type": "execute_result"
    }
   ],
   "source": [
    "data['status'] = data['message'].apply(lambda m: m.split(']')[0][1:])\n",
    "data['operation_type'] = data['message'].apply(lambda m: m.split(']')[1][1:])\n"
   ]
  },
  {
   "cell_type": "code",
   "execution_count": null,
   "metadata": {},
   "outputs": [],
   "source": []
  },
  {
   "cell_type": "code",
   "execution_count": null,
   "metadata": {},
   "outputs": [],
   "source": []
  },
  {
   "cell_type": "code",
   "execution_count": null,
   "metadata": {},
   "outputs": [],
   "source": []
  }
 ],
 "metadata": {
  "kernelspec": {
   "display_name": "Python 3",
   "language": "python",
   "name": "python3"
  },
  "language_info": {
   "codemirror_mode": {
    "name": "ipython",
    "version": 3
   },
   "file_extension": ".py",
   "mimetype": "text/x-python",
   "name": "python",
   "nbconvert_exporter": "python",
   "pygments_lexer": "ipython3",
   "version": "3.6.10"
  }
 },
 "nbformat": 4,
 "nbformat_minor": 4
}
